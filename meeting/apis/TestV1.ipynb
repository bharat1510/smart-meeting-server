{
 "cells": [
  {
   "cell_type": "code",
   "execution_count": 1,
   "id": "2f63ffc8",
   "metadata": {},
   "outputs": [],
   "source": []
  },
  {
   "cell_type": "code",
   "execution_count": 7,
   "id": "13d3ab08",
   "metadata": {},
   "outputs": [
    {
     "name": "stdout",
     "output_type": "stream",
     "text": [
      "Requirement already satisfied: gensim in c:\\users\\hardi\\anaconda3\\lib\\site-packages (4.1.2)\n",
      "Requirement already satisfied: smart-open>=1.8.1 in c:\\users\\hardi\\anaconda3\\lib\\site-packages (from gensim) (5.1.0)\n",
      "Requirement already satisfied: scipy>=0.18.1 in c:\\users\\hardi\\anaconda3\\lib\\site-packages (from gensim) (1.7.3)\n",
      "Requirement already satisfied: numpy>=1.17.0 in c:\\users\\hardi\\anaconda3\\lib\\site-packages (from gensim) (1.21.5)\n"
     ]
    }
   ],
   "source": [
    "!pip3 install gensim"
   ]
  },
  {
   "cell_type": "code",
   "execution_count": 9,
   "id": "e1d319a8",
   "metadata": {},
   "outputs": [
    {
     "name": "stdout",
     "output_type": "stream",
     "text": [
      "Collecting sumy\n",
      "  Downloading sumy-0.11.0-py2.py3-none-any.whl (97 kB)\n",
      "Requirement already satisfied: nltk>=3.0.2 in c:\\users\\hardi\\anaconda3\\lib\\site-packages (from sumy) (3.7)\n",
      "Collecting docopt<0.7,>=0.6.1\n",
      "  Downloading docopt-0.6.2.tar.gz (25 kB)\n",
      "Collecting pycountry>=18.2.23\n",
      "  Downloading pycountry-22.3.5.tar.gz (10.1 MB)\n",
      "  Installing build dependencies: started\n",
      "  Installing build dependencies: finished with status 'done'\n",
      "  Getting requirements to build wheel: started\n",
      "  Getting requirements to build wheel: finished with status 'done'\n",
      "    Preparing wheel metadata: started\n",
      "    Preparing wheel metadata: finished with status 'done'\n",
      "Requirement already satisfied: requests>=2.7.0 in c:\\users\\hardi\\anaconda3\\lib\\site-packages (from sumy) (2.27.1)\n",
      "Collecting breadability>=0.1.20\n",
      "  Downloading breadability-0.1.20.tar.gz (32 kB)\n",
      "Requirement already satisfied: chardet in c:\\users\\hardi\\anaconda3\\lib\\site-packages (from breadability>=0.1.20->sumy) (4.0.0)\n",
      "Requirement already satisfied: lxml>=2.0 in c:\\users\\hardi\\anaconda3\\lib\\site-packages (from breadability>=0.1.20->sumy) (4.8.0)\n",
      "Requirement already satisfied: tqdm in c:\\users\\hardi\\anaconda3\\lib\\site-packages (from nltk>=3.0.2->sumy) (4.64.0)\n",
      "Requirement already satisfied: click in c:\\users\\hardi\\anaconda3\\lib\\site-packages (from nltk>=3.0.2->sumy) (8.0.4)\n",
      "Requirement already satisfied: regex>=2021.8.3 in c:\\users\\hardi\\anaconda3\\lib\\site-packages (from nltk>=3.0.2->sumy) (2022.3.15)\n",
      "Requirement already satisfied: joblib in c:\\users\\hardi\\anaconda3\\lib\\site-packages (from nltk>=3.0.2->sumy) (1.1.0)\n",
      "Requirement already satisfied: setuptools in c:\\users\\hardi\\anaconda3\\lib\\site-packages (from pycountry>=18.2.23->sumy) (61.2.0)\n",
      "Requirement already satisfied: charset-normalizer~=2.0.0 in c:\\users\\hardi\\anaconda3\\lib\\site-packages (from requests>=2.7.0->sumy) (2.0.4)\n",
      "Requirement already satisfied: urllib3<1.27,>=1.21.1 in c:\\users\\hardi\\anaconda3\\lib\\site-packages (from requests>=2.7.0->sumy) (1.26.9)\n",
      "Requirement already satisfied: certifi>=2017.4.17 in c:\\users\\hardi\\anaconda3\\lib\\site-packages (from requests>=2.7.0->sumy) (2021.10.8)\n",
      "Requirement already satisfied: idna<4,>=2.5 in c:\\users\\hardi\\anaconda3\\lib\\site-packages (from requests>=2.7.0->sumy) (3.3)\n",
      "Requirement already satisfied: colorama in c:\\users\\hardi\\anaconda3\\lib\\site-packages (from click->nltk>=3.0.2->sumy) (0.4.4)\n",
      "Building wheels for collected packages: breadability, docopt, pycountry\n",
      "  Building wheel for breadability (setup.py): started\n",
      "  Building wheel for breadability (setup.py): finished with status 'done'\n",
      "  Created wheel for breadability: filename=breadability-0.1.20-py2.py3-none-any.whl size=21712 sha256=794920fd40f9e9b169cc1b9749236524fd04c3b54cc8abe0b4b0ee3bd8091e14\n",
      "  Stored in directory: c:\\users\\hardi\\appdata\\local\\pip\\cache\\wheels\\ba\\9f\\70\\7795228568b81b57a8932755938da9fb1f291b0576752604aa\n",
      "  Building wheel for docopt (setup.py): started\n",
      "  Building wheel for docopt (setup.py): finished with status 'done'\n",
      "  Created wheel for docopt: filename=docopt-0.6.2-py2.py3-none-any.whl size=13723 sha256=137fa5f52452b6d54fc56db59b7065a933237cfc06076df8e90f0e878856cbf3\n",
      "  Stored in directory: c:\\users\\hardi\\appdata\\local\\pip\\cache\\wheels\\70\\4a\\46\\1309fc853b8d395e60bafaf1b6df7845bdd82c95fd59dd8d2b\n",
      "  Building wheel for pycountry (PEP 517): started\n",
      "  Building wheel for pycountry (PEP 517): finished with status 'done'\n",
      "  Created wheel for pycountry: filename=pycountry-22.3.5-py2.py3-none-any.whl size=10681895 sha256=bdc86ec392c8d97fb6ef02adbeefcca4ca4ede2a0c2854caa9d02679ec9797f4\n",
      "  Stored in directory: c:\\users\\hardi\\appdata\\local\\pip\\cache\\wheels\\47\\15\\92\\e6dc85fcb0686c82e1edbcfdf80cfe4808c058813fed0baa8f\n",
      "Successfully built breadability docopt pycountry\n",
      "Installing collected packages: docopt, pycountry, breadability, sumy\n",
      "Successfully installed breadability-0.1.20 docopt-0.6.2 pycountry-22.3.5 sumy-0.11.0\n"
     ]
    }
   ],
   "source": [
    "!pip3 install sumy"
   ]
  },
  {
   "cell_type": "code",
   "execution_count": 1,
   "id": "04062f73",
   "metadata": {},
   "outputs": [],
   "source": [
    "import sumy\n",
    "import pandas as pd\n",
    "import numpy as np"
   ]
  },
  {
   "cell_type": "markdown",
   "id": "05da2011",
   "metadata": {},
   "source": [
    "### Latent Semantic Analysis"
   ]
  },
  {
   "cell_type": "code",
   "execution_count": 4,
   "id": "7128a202",
   "metadata": {},
   "outputs": [],
   "source": [
    "from sumy.summarizers.lsa import LsaSummarizer\n",
    "from sumy.nlp.tokenizers import Tokenizer\n",
    "from sumy.parsers.plaintext import PlaintextParser"
   ]
  },
  {
   "cell_type": "code",
   "execution_count": 14,
   "id": "fd9ef63e",
   "metadata": {},
   "outputs": [],
   "source": [
    "original_text = 'Junk foods taste good that’s why it is mostly liked by everyone of any age group especially kids and school going children.They generally ask for the junk food daily because they have been trend so by their parents from the childhood. They never have been discussed by their parents about the harmful effects of junk foods over health. According to the research by scientists, it has been found that junk foods have negative effects on the health in many ways.They are generally fried food found in the market in the packets. They become high in calories, high in cholesterol, low in healthy nutrients, high in sodium mineral, high in sugar, starch, unhealthy fat, lack of protein and lack of dietary fibers. Processed and junk foods are the means of rapid and unhealthy weight gain and negatively impact the whole body throughout the life. It makes able a person to gain excessive weight which is called as obesity. Junk foods tastes good and looks good however do not fulfil the healthy calorie requirement of the body. Some of the foods like french fries, fried foods, pizza, burgers, candy, soft drinks, baked goods, ice cream, cookies, etc are the example of high-sugar and high-fat containing foods. It is found according to the Centres for Disease Control and Prevention that Kids and children eating junk food are more prone to the type-2 diabetes. In type-2 diabetes our body become unable to regulate blood sugar level. Risk of getting this disease is increasing as one become more obese or overweight. It increases the risk of kidney failure. Eating junk food daily lead us to the nutritional deficiencies in the body because it is lack of essential nutrients, vitamins, iron, minerals and dietary fibers. It increases risk of cardiovascular diseases because it is rich in saturated fat, sodium and bad cholesterol. High sodium and bad cholesterol diet increases blood pressure and overloads the heart functioning. One who like junk food develop more risk to put on extra weight and become fatter and unhealthier. Junk foods contain high level carbohydrate which spike blood sugar level and make person more lethargic, sleepy and less active and alert. Reflexes and senses of the people eating this food become dull day by day thus they live more sedentary life. Junk foods are the source of constipation and other disease like diabetes, heart ailments, clogged arteries, heart attack, strokes, etc because of being poor in nutrition. Junk food is the easiest way to gain unhealthy weight. The amount of fats and sugar in the food makes you gain weight rapidly. However, this is not a healthy weight. It is more of fats and cholesterol which will have a harmful impact on your health. Junk food is also one of the main reasons for the increase in obesity nowadays.This food only looks and tastes good, other than that, it has no positive points. The amount of calorie your body requires to stay fit is not fulfilled by this food. For instance, foods like French fries, burgers, candy, and cookies, all have high amounts of sugar and fats. Therefore, this can result in long-term illnesses like diabetes and high blood pressure. This may also result in kidney failure. Above all, you can get various nutritional deficiencies when you don’t consume the essential nutrients, vitamins, minerals and more. You become prone to cardiovascular diseases due to the consumption of bad cholesterol and fat plus sodium. In other words, all this interferes with the functioning of your heart. Furthermore, junk food contains a higher level of carbohydrates. It will instantly spike your blood sugar levels. This will result in lethargy, inactiveness, and sleepiness. A person reflex becomes dull overtime and they lead an inactive life. To make things worse, junk food also clogs your arteries and increases the risk of a heart attack. Therefore, it must be avoided at the first instance to save your life from becoming ruined.The main problem with junk food is that people don’t realize its ill effects now. When the time comes, it is too late. Most importantly, the issue is that it does not impact you instantly. It works on your overtime; you will face the consequences sooner or later. Thus, it is better to stop now.You can avoid junk food by encouraging your children from an early age to eat green vegetables. Their taste buds must be developed as such that they find healthy food tasty. Moreover, try to mix things up. Do not serve the same green vegetable daily in the same style. Incorporate different types of healthy food in their diet following different recipes. This will help them to try foods at home rather than being attracted to junk food.In short, do not deprive them completely of it as that will not help. Children will find one way or the other to have it. Make sure you give them junk food in limited quantities and at healthy periods of time. '"
   ]
  },
  {
   "cell_type": "code",
   "execution_count": 14,
   "id": "f807a76c",
   "metadata": {},
   "outputs": [],
   "source": [
    "data = pd.read_csv('pre-processed_data.csv')"
   ]
  },
  {
   "cell_type": "code",
   "execution_count": 15,
   "id": "31227d2e",
   "metadata": {},
   "outputs": [
    {
     "data": {
      "text/html": [
       "<div>\n",
       "<style scoped>\n",
       "    .dataframe tbody tr th:only-of-type {\n",
       "        vertical-align: middle;\n",
       "    }\n",
       "\n",
       "    .dataframe tbody tr th {\n",
       "        vertical-align: top;\n",
       "    }\n",
       "\n",
       "    .dataframe thead th {\n",
       "        text-align: right;\n",
       "    }\n",
       "</style>\n",
       "<table border=\"1\" class=\"dataframe\">\n",
       "  <thead>\n",
       "    <tr style=\"text-align: right;\">\n",
       "      <th></th>\n",
       "      <th>Unnamed: 0</th>\n",
       "      <th>Title</th>\n",
       "      <th>Transcript</th>\n",
       "      <th>Transcript_Without_Stopword</th>\n",
       "      <th>Transcript_Lemmantized</th>\n",
       "    </tr>\n",
       "  </thead>\n",
       "  <tbody>\n",
       "    <tr>\n",
       "      <th>0</th>\n",
       "      <td>0</td>\n",
       "      <td>1. Introduction and Scope</td>\n",
       "      <td>patrick winston: welcome to 6034. i don't know...</td>\n",
       "      <td>patrick winston: welcome 6034. know deal micro...</td>\n",
       "      <td>patrick winston: welcome 6034. know deal micro...</td>\n",
       "    </tr>\n",
       "    <tr>\n",
       "      <th>1</th>\n",
       "      <td>1</td>\n",
       "      <td>2. Reasoning: Goal Trees and Problem Solving</td>\n",
       "      <td>what we're going to talk about today, is goals...</td>\n",
       "      <td>we're going talk today, goals. way little warm...</td>\n",
       "      <td>we're going talk today, goals. way little warm...</td>\n",
       "    </tr>\n",
       "    <tr>\n",
       "      <th>2</th>\n",
       "      <td>2</td>\n",
       "      <td>3. Reasoning: Goal Trees and Rule-Based Expert...</td>\n",
       "      <td>professor patrick winston: ladies and gentleme...</td>\n",
       "      <td>professor patrick winston: ladies gentlemen, e...</td>\n",
       "      <td>professor patrick winston: lady gentlemen, eng...</td>\n",
       "    </tr>\n",
       "    <tr>\n",
       "      <th>3</th>\n",
       "      <td>3</td>\n",
       "      <td>4. Search: Depth-First, Hill Climbing, Beam</td>\n",
       "      <td>patrick winston: today we're going to be talki...</td>\n",
       "      <td>patrick winston: today we're going talking sea...</td>\n",
       "      <td>patrick winston: today we're going talking sea...</td>\n",
       "    </tr>\n",
       "    <tr>\n",
       "      <th>4</th>\n",
       "      <td>4</td>\n",
       "      <td>5. Search: Optimal, Branch and Bound, A*</td>\n",
       "      <td>professor: it was written about route 66, whic...</td>\n",
       "      <td>professor: written route 66, used main highway...</td>\n",
       "      <td>professor: written route 66, used main highway...</td>\n",
       "    </tr>\n",
       "  </tbody>\n",
       "</table>\n",
       "</div>"
      ],
      "text/plain": [
       "   Unnamed: 0                                              Title  \\\n",
       "0           0                          1. Introduction and Scope   \n",
       "1           1       2. Reasoning: Goal Trees and Problem Solving   \n",
       "2           2  3. Reasoning: Goal Trees and Rule-Based Expert...   \n",
       "3           3        4. Search: Depth-First, Hill Climbing, Beam   \n",
       "4           4           5. Search: Optimal, Branch and Bound, A*   \n",
       "\n",
       "                                          Transcript  \\\n",
       "0  patrick winston: welcome to 6034. i don't know...   \n",
       "1  what we're going to talk about today, is goals...   \n",
       "2  professor patrick winston: ladies and gentleme...   \n",
       "3  patrick winston: today we're going to be talki...   \n",
       "4  professor: it was written about route 66, whic...   \n",
       "\n",
       "                         Transcript_Without_Stopword  \\\n",
       "0  patrick winston: welcome 6034. know deal micro...   \n",
       "1  we're going talk today, goals. way little warm...   \n",
       "2  professor patrick winston: ladies gentlemen, e...   \n",
       "3  patrick winston: today we're going talking sea...   \n",
       "4  professor: written route 66, used main highway...   \n",
       "\n",
       "                              Transcript_Lemmantized  \n",
       "0  patrick winston: welcome 6034. know deal micro...  \n",
       "1  we're going talk today, goals. way little warm...  \n",
       "2  professor patrick winston: lady gentlemen, eng...  \n",
       "3  patrick winston: today we're going talking sea...  \n",
       "4  professor: written route 66, used main highway...  "
      ]
     },
     "execution_count": 15,
     "metadata": {},
     "output_type": "execute_result"
    }
   ],
   "source": [
    "data.head()"
   ]
  },
  {
   "cell_type": "code",
   "execution_count": 16,
   "id": "e9019eac",
   "metadata": {},
   "outputs": [],
   "source": [
    "data.drop('Unnamed: 0',axis=1,inplace=True)"
   ]
  },
  {
   "cell_type": "code",
   "execution_count": 17,
   "id": "d315bc0c",
   "metadata": {},
   "outputs": [
    {
     "data": {
      "text/html": [
       "<div>\n",
       "<style scoped>\n",
       "    .dataframe tbody tr th:only-of-type {\n",
       "        vertical-align: middle;\n",
       "    }\n",
       "\n",
       "    .dataframe tbody tr th {\n",
       "        vertical-align: top;\n",
       "    }\n",
       "\n",
       "    .dataframe thead th {\n",
       "        text-align: right;\n",
       "    }\n",
       "</style>\n",
       "<table border=\"1\" class=\"dataframe\">\n",
       "  <thead>\n",
       "    <tr style=\"text-align: right;\">\n",
       "      <th></th>\n",
       "      <th>Title</th>\n",
       "      <th>Transcript</th>\n",
       "      <th>Transcript_Without_Stopword</th>\n",
       "      <th>Transcript_Lemmantized</th>\n",
       "    </tr>\n",
       "  </thead>\n",
       "  <tbody>\n",
       "    <tr>\n",
       "      <th>0</th>\n",
       "      <td>1. Introduction and Scope</td>\n",
       "      <td>patrick winston: welcome to 6034. i don't know...</td>\n",
       "      <td>patrick winston: welcome 6034. know deal micro...</td>\n",
       "      <td>patrick winston: welcome 6034. know deal micro...</td>\n",
       "    </tr>\n",
       "    <tr>\n",
       "      <th>1</th>\n",
       "      <td>2. Reasoning: Goal Trees and Problem Solving</td>\n",
       "      <td>what we're going to talk about today, is goals...</td>\n",
       "      <td>we're going talk today, goals. way little warm...</td>\n",
       "      <td>we're going talk today, goals. way little warm...</td>\n",
       "    </tr>\n",
       "    <tr>\n",
       "      <th>2</th>\n",
       "      <td>3. Reasoning: Goal Trees and Rule-Based Expert...</td>\n",
       "      <td>professor patrick winston: ladies and gentleme...</td>\n",
       "      <td>professor patrick winston: ladies gentlemen, e...</td>\n",
       "      <td>professor patrick winston: lady gentlemen, eng...</td>\n",
       "    </tr>\n",
       "    <tr>\n",
       "      <th>3</th>\n",
       "      <td>4. Search: Depth-First, Hill Climbing, Beam</td>\n",
       "      <td>patrick winston: today we're going to be talki...</td>\n",
       "      <td>patrick winston: today we're going talking sea...</td>\n",
       "      <td>patrick winston: today we're going talking sea...</td>\n",
       "    </tr>\n",
       "    <tr>\n",
       "      <th>4</th>\n",
       "      <td>5. Search: Optimal, Branch and Bound, A*</td>\n",
       "      <td>professor: it was written about route 66, whic...</td>\n",
       "      <td>professor: written route 66, used main highway...</td>\n",
       "      <td>professor: written route 66, used main highway...</td>\n",
       "    </tr>\n",
       "  </tbody>\n",
       "</table>\n",
       "</div>"
      ],
      "text/plain": [
       "                                               Title  \\\n",
       "0                          1. Introduction and Scope   \n",
       "1       2. Reasoning: Goal Trees and Problem Solving   \n",
       "2  3. Reasoning: Goal Trees and Rule-Based Expert...   \n",
       "3        4. Search: Depth-First, Hill Climbing, Beam   \n",
       "4           5. Search: Optimal, Branch and Bound, A*   \n",
       "\n",
       "                                          Transcript  \\\n",
       "0  patrick winston: welcome to 6034. i don't know...   \n",
       "1  what we're going to talk about today, is goals...   \n",
       "2  professor patrick winston: ladies and gentleme...   \n",
       "3  patrick winston: today we're going to be talki...   \n",
       "4  professor: it was written about route 66, whic...   \n",
       "\n",
       "                         Transcript_Without_Stopword  \\\n",
       "0  patrick winston: welcome 6034. know deal micro...   \n",
       "1  we're going talk today, goals. way little warm...   \n",
       "2  professor patrick winston: ladies gentlemen, e...   \n",
       "3  patrick winston: today we're going talking sea...   \n",
       "4  professor: written route 66, used main highway...   \n",
       "\n",
       "                              Transcript_Lemmantized  \n",
       "0  patrick winston: welcome 6034. know deal micro...  \n",
       "1  we're going talk today, goals. way little warm...  \n",
       "2  professor patrick winston: lady gentlemen, eng...  \n",
       "3  patrick winston: today we're going talking sea...  \n",
       "4  professor: written route 66, used main highway...  "
      ]
     },
     "execution_count": 17,
     "metadata": {},
     "output_type": "execute_result"
    }
   ],
   "source": [
    "data.head()"
   ]
  },
  {
   "cell_type": "code",
   "execution_count": 18,
   "id": "f79588d5",
   "metadata": {},
   "outputs": [
    {
     "data": {
      "text/plain": [
       "'patrick winston: welcome 6034. know deal microphone. we\\'ll see happens. going good year. we\\'ve got [inaudible] bunch interesting people. always interesting see people named child two decade ago. find overwhelmed emilys. many peters, pauls, marys, enough call forth suitable song point. lot jesses genders. [inaudible] genders. duncan, where\\'s duncan? are, duncan. changed hairstyle. want assure use thane cawdor taking course semester. i\\'m going tell artificial intelligence today, subject about. there\\'s 10% percent turnover roster last 24 hours. expect another 10% turnover next 24 hours, too. know many sightseers, wanting know something want do. i\\'m going tell we\\'re going semester, know get here. i\\'m going walk outline. i\\'m going start talking artificial intelligence is, it. i\\'ll give little bit history artificial intelligence, conclude covenant run course. one laptops, please. i\\'ll explain covenant end. it? well, must something thinking. let\\'s start here, definition artificial intelligence, saying thinking, whatever is. definition artificial intelligence rather broad. we\\'re going say thinking. also perception, action. philosophy class, i\\'d stop right say, subject we\\'re going talk problem involving thinking, perception, action. philosophy class. course six class. engineering school class. mit class. need that. therefore we\\'re going talk model targeted thinking, perception, action. strange you, model making mit about. run someone bar, relative asks mit, right knee jerk reaction say, learned build models. that\\'s mit. build model using differential equations. build model using probabilities. build model using physical computational simulations. whatever do, build models. even humanity class, mit approach make model use explain past, predict future, understand subject, control world. that\\'s mit about. that\\'s subject about, too. now, model model thinking. might say, take classic get smarter? answer yes. get smarter. better model thinking, subject matter subject, better model thinking. model targeted thinking, perception, action. know that\\'s quite enough, order model, representation. let\\'s say artificial intelligence representation support making model facilitate understanding thinking, perception, action. might say me, well what\\'s representation? good do? i\\'d like take brief moment tell gyroscopes. many friend mechanical engineering. one best way embarrass say here\\'s bicycle wheel. spin it, blow hard right here, edge wheel, going turn way way? guarantee they\\'ll put hand arthritic posture called right hand screw rule, aptly named people use tend get right answer 50% time. we\\'re never going make mistake again. we\\'re electrical engineers, mechanical engineers. know representation. we\\'re going we\\'re going think little bit. we\\'re going use duct tape help u think one piece wheel. want think piece wheel wheel come flying top, blow like that. what\\'s going happen one piece? going go way, right? next piece going go way too. come over, go way. let ground f sure. powerful feeling. try it. need demonstration. anybody think i\\'m cheating, here. let\\'s twist one way other. that\\'s powerful pull, it. alex never going get gyroscope wrong, he\\'s got right representation. much going accumulate subject suite representation help build program intelligent. want give second example, one little bit computational. one familiar time went first grade, cases. problem farmer, fox, goose, grain. there\\'s river, leaky rowboat carry farmer, one four possessions. what\\'s right representation problem? might picture farmer. might poem situation, perhaps haiku. know right representation. somehow, get sense right representation involve something location participant scenario. might draw picture look like this. there\\'s scenario, glorious green, representing algae infested river river. here\\'s farmer, fox, goose, grain. initial situation. situation like one, example. river, farmer, goose side. fox grain side. know farmer execute movement one situation another. we\\'re getting somewhere problem. mit approach farmer, fox, goose, grain problem. might stumped little kid. many situation there? think, tanya? look like four individual one side other. every position farmer be, thing either side river. would two fourth say aggressively without hesitation. yes, two fourth, 16 possibilities. could actually draw entire graph. small enough. there\\'s another position farmer, fox, goose, grain. fact that\\'s one want. draw entire graph, look like this. graph situation allowed connection them. 16? other-- many got? four? 10? others situation somebody get eaten. want go places. got representation, something magical happened. we\\'ve got constraint exposed. that\\'s build representations. that\\'s whey algebra high school, algebraic notation expose constraint make possible actually figure many customer get number advertisement place newspaper. artificial intelligence constraint exposed representation support model targeted thinking-- actually there\\'s one thing, too. quite done. all, end, build programs. algorithm enabled constraint exposed representation model targeted thinking, perception, action. algorithms, might call well procedures, might call well methods, whatever like. stuff artificial intelligence about-- methods, algorithms, representations. i\\'d like give one example. something call, artificial intelligence, generated test. simple idea, never hear subject. idea need add repertoire problem solving methods, techniques, procedures, algorithms. here\\'s works. maybe explain best starting example. here\\'s tree leaf picked tree way class. hope last species. it, kind tree? know. never learn trees, colors, multiplication tables. go back book, audubon society field guide north american trees. would solve problem? pretty simple. turn page one time, find something look like leaf. discover sycamore, something. mit\\'s full them. that, something intuitive, natural, something time. we\\'re going give name. we\\'re going call generate test. generate test method consists generating possible solutions, feeding box test them, side come mostly failures. every get something succeeds plea us. that\\'s leaf. name it. name something, get power it. start talk it. say, generate test approach problem, better build generator certain property make generator good. example, redundant. give solution twice. informable. able absorb information as, deciduous tree. bother looking conifers. name something, start talking about. vocabulary give power. call rumpelstiltskin principle perhaps first powerful idea day. subject full powerful ideas. every class. rumpelstiltskin principle say name something, get power it. know little thing end shoelace? interesting. gesturing like mad. that\\'s something we\\'ll talk later, too-- motor stuff, help u think. it? one knows? ag something, right? aglet, good. name, start talk about. say purpose aglet pretty much like whipping end rope. keep thing unwinding. place hang knowledge. we\\'re talking frequently rest semester, power able name things. symbolic label give u power concepts. we\\'re also say simple idea, generate test. might tempted say someone, learned generate test today. trivial idea. word trivial word would like purge vocabulary, dangerous label. reason dangerous there\\'s difference trivial simple. it? what\\'s difference labeling something trivial calling simple? yes? exactly so. say simple powerful, trivial make sound like simple, little worth. many mit people miss opportunities, tendency think idea important unless they\\'re complicated. simple idea artificial intelligence often powerful. could teach artificial intelligence course would full mathematics would make course 18 professor gag. idea would merely gratuitously complicated, gratuitously mathematical, gratuitously simple. simple idea often powerful. far? talked definition. talked example method. showed representation, perhaps also talked first idea, too. got representation right, often almost done. representation, immediately see two solution problem, something occurred u little kids, think draw [? state ?] diagram. there\\'s still one thing. past, places, artificial intelligence often taught purely reasoning. solve problem eyes, well symbolic apparatus. solved problem eyes. like reinforce giving little puzzle. let\\'s see, who\\'s here? see [? kambe, ?] i\\'ll bet he\\'s africa. anyone africa? one\\'s africa? no? well much better-- would know answer puzzle. here\\'s puzzle. many country africa equator cross? would anybody willing stake life answer? probably not. well, let repeat question. many country africa equator cross? yeah, six. happened miracle. miracle communicated language, language system commanded visual system execute program involves scanning across line, counting go. vision system came back language system said, six. miracle. without understanding miracle, we\\'ll never full understanding nature intelligence. kind problem solving kind problem solving wish could teach lot it. can\\'t teach stuff understand. [inaudible] that. that\\'s little bit definition examples. what\\'s for? deal quickly. we\\'re engineers, building smarter programs. building tool kit representation method make possible build smarter programs. find, days, can\\'t build big system without embedded somewhere idea talk subject. scientist, there\\'s somewhat different motivation. amount studying sort things. scientist, interested enables u build computational account intelligence. that\\'s part do. subject going part, part make possible build smarter programs. make u different chimpanzee share enormous fraction dna. used thought share 95% dna chimpanzees. went 98. thank god stopped there. actually went back little bit. think we\\'re back 94. talk little bit history ai, see got today? also history ai tell little bit learn course. started lady lovelace, world\\'s first programmer, wrote program 100 year computer run them. interesting even 1842, people hassling whether computer could get really smart. said, \"the analytical engine pretension originate anything. whatever know order perform.\" screwball idea persists day. nevertheless, origin all. beginning discussions. nothing much happened 1950, alan turing wrote famous paper, introduced turing test. course, alan turing previously second world war breaking german code, ultra code, british government rewarded driving suicide, happened homosexual. turing wrote paper 1950, first milestone lady lovelace\\'s comment 1842. modern era really began paper written marvin minsky 1960, titled \"steps toward artificial intelligence.\" long jim [? slagle, ?] nearly blind graduate student, wrote program symbolic integration. adding area curve, symbolic integration like learn high school freshman. monday, we\\'re going talk program. going understand exactly works. write one yourself. we\\'re going reach way back time look program because, one day discussing it, talking it, miniature artificial intelligence course. rich important ideas. that\\'s dawn age, early dawn age. age speculation, dawn age here. early dawn age integration program took world storm. everybody know integration. someone, everyone, thought integration today, rest intelligence figured tomorrow. bad side work way. here\\'s another dawn age program, eliza [? thing ?]. imagine prefer demonstration reading it, right? prefer demonstration? let\\'s see demonstrate it. left hamentashen debate couple year ago. spell hamentashen, anybody know? sure hope that\\'s right. matter. something interesting come. ok, choice. teal? burton house? teal. that\\'s dawn age ai. one ever took stuff seriously, except fun [inaudible] project level thing work matching programs, on. integration program serious. one wasn\\'t. serious, program geometric analogy, problem kind find intelligence tests. answer this? b c what? would 2, guess. what\\'s second best answer? theory program solve problem pretty much identical figured out. first case deleted inside figure. second case is, reason got four deleted outside part grew inside part. there\\'s another one. think hardest one got, easiest one get. i\\'ve forgotten. b c 3. late dawn age, began turn attention purely symbolic reasoning thinking little bit perceptual apparatus. program written could figure nature shape forms, that. interesting program kind difficulty do. now, deleted edges, everything becomes ambiguous. may series platforms, may series of-- see saw blade sticking go reversal? program written could learn small number examples. many people think computer learning involving leading neural net submission thousand trials. program written early dawn age learned arch something flat part top, two side can\\'t touch, top may may wedge. late dawn age, though, important thing, perhaps, look wednesday next. rule-based expert systems. program written stanford diagnosis bacterial infection blood. turned better doctors, general practitioners. never used, curiously enough. nobody care problem actually is. give broad spectrum antibiotic kill everything. late dawn age system, so-called [inaudible] system, system launched thousand companies, people started building expert system built technology. here\\'s know used, used behalf. go through, example, atlanta airport, airplane parked rule-based expert system know park aircraft effectively. save delta airline $0.5 million day jet fuel smarter park them. that\\'s example expert system little bit good lot people. there\\'s deep blue. take u next stage beyond age expert systems, business age. take u age here, call bulldozer age, time people began see disposal unlimited amount computing. frequently substitute computing intelligence. one would say deep blue anything like human chess master does. nevertheless, deep blue, processing data like bulldozer process gravel, able beat world champion. what\\'s right way? that\\'s age we\\'re right now. course inducing program age go subject. question age we\\'re right now. always dangerous name age it, guess. like call age right way. age begin realize definition actually little incomplete, much intelligence thinking, perception, action acting separately, loop tie together. one example africa. here\\'s another example drawn program development, continues be, laboratory. we\\'re going ask system imagine something. system: ok. imagine ball fall bowl. ok. imagine man run woman. patrick winston: see, best good memory situation actually involve. imagined scene then-- system: yes. learned experience contact man woman appeared man run woman. patrick winston: imagined scene, read answer using visual apparatus scene imagined. like africa, working visual memory, using visual programs. system: ok. imagine man give ball man. patrick winston: know look like slugs, they\\'re actually distinguished professors. always best can. system: ok. imagine man flies. patrick winston: best do. concludes discussion history. i\\'ve provided little bit glimpse we\\'re going look semester unfolds. yes, chris? chris: actually demonstration something? large database videos? patrick winston: no, small database videos. chris: intelligently picking among based on-- patrick winston: based content. say imagine student gave ball another student, imago that. say, student ball? student take ball? answer question review video see take well give video. think ought optimistic future. we\\'ve long history here, solved problem. one reason feel optimistic future friend march. friend include cognitive psychologists, [? developmental ?] psychologists, linguists, sometimes philosophers, especially paleoanthropologists. becoming increasingly clear we\\'re actually different chimpanzees, got way. high school idea evolved slow, gradual, continuous improvement. seem way happened. characteristic specie informative come guiding activity people like me. here\\'s story seems fossil record. first all, human around maybe 200,000 year present anatomical form. someone walked door right 200,000 year ago, imagine would dirty, that-- probably naked, too-- that, able tell difference, especially mit. ensuing 150,000 year period human actually amount much. somehow, shortly 50,000 year ago, small group u developed capability separated u species. accident evolution. accident may may happen, happened produce us. also case probably necked specie thousand, maybe even hundred individuals, something made accidental changes, accidental evolutionary products, capable sticking. lead u speculate happened 50,000 year ago. paleoanthropologists, noam chomsky, lot people reached similar conclusions. conclusion is-- i\\'ll quote chomsky. he\\'s voice authority. \"it seems shortly 50,000 year ago, small group u acquired ability take two concepts, combine make third concept, without disturbing original two concepts, without limit.\" perspective ai person like me, chomsky seems saying is, learned begin describe things, way intimately connected language. that, end, separate u chimpanzees. might say, well let\\'s study language. no, can\\'t that, think eyes. language two things. number one, enables u make descriptions. description enable u tell stories. storytelling story understanding education about. that\\'s going up. going enables u marshal resource perceptual systems, even command perceptual system imagine thing we\\'ve never seen. here\\'s example. imagine running street full bucket water. happens? leg get wet. water sloshes out. never find fact anywhere web. probably never told that\\'s happens run street full bucket water. easily imagine scenario, know what\\'s going happen. internal imagination simulation. we\\'re never going understand human intelligence understand that. here\\'s another example. imagine running street full bucket nickels? happens? nickel weigh lot. going bent over. going stagger. nobody ever told that. find anywhere web. language center thing enables storytelling going up, marshalling resource perceptual apparatus, going down. that\\'s we\\'re going finish subject semester, trying understand phenomenon. concludes everything wanted say material subject. want turn attention little bit going operate subject. many characteristic subject confusing. first all, four kind activity course. different purpose. lectures. lecture supposed hour introducing material big picture. they\\'re powerful ideas. they\\'re experience side course. let step aside make remark. mit two things. skill building, big ideas. build skill home, dartmouth, harvard, princeton, kind places. experience get mit. know everybody know artificial intelligence. tell think. tell think. that\\'s something going get place. that\\'s role, see it, giving lectures. recitation four buttressing expanding material, providing venue that\\'s small enough discussion. mega recitation [? usual ?] component course. they\\'re taught hour fridays. mark seifter, graduate student, teaching those. wrapped around past quiz problems. mark show work them. important component subject. finally tutorial helping homework. might say me, well, really need go class? like say answer is, like pas subject. mit students. mit people always like look data. scattergram made subject taught last fall, show relationship attendance lecture grade awarded course. sure means, here\\'s regression line. information little suspect two reasons, one asked people self report many lecture thought attended. mechanism assigning numerical grade little weird. there\\'s third thing, too, is, one must never confuse correlation cause. think explanation trend line go up, different whether something lecture producing good grades. might ask feel people upper left hand corner. one two people near top subject go class all. mixed feeling that. adults. call. hand, wish that\\'s habitually subject take mit, would resign go somewhere else, let somebody else take slot. benefiting powerful ideas, kind thing involve interaction faculty. done. recommend it. way, four activity show similar regression lines. five point scale? let explain work you. love people ask u class average quiz. that\\'s get use blank stare. idea class average ever quiz. here\\'s do. like everybody else, start score zero 100. say ourselves, score would get thorough understanding material? say, well, particular exam, number right here. score would get good understanding material? that\\'s score. happens following edge range think need work. is, say range here-- following mit convention gpa stuff, get five. range here, there\\'s sharp drop four. range here, there\\'s sharp fall three. mean middle one plateau there\\'s point arguing this. going good. boundary think performance break point are. say, well seems little harsh. blah, blah, blah, blah, blah, start arguing. come back second major innovation course. grade calculated several parts. part one max grade q1, part one final. words, get two shot everything. complete glorious undeniable horrible f first quiz, get erased final well part final. quiz corresponding mirror final. get max score got two pieces. say me, i\\'m mit student. lot guts. i\\'m going take final. done. recommend it. reason recommend expect everybody final. would lot time pressure final, five part final. four quizzes. final fifth part there\\'s material teach last date give final institute rules. that\\'s roughly works. read detail faq subject homepage. we\\'re almost done. want talk little bit we\\'re going communicate next days, we\\'re getting organized. so, number one-- could ask ta help pas out-- need schedule tutorials. we\\'re going ask fill form, give u leave. hearing u sort. there\\'s issue whether we\\'re going ordinary recitation mega recitation week. pay attention. otherwise, going stranded classroom nothing do. we\\'re going regular recitation week. regular recitation week, [inaudible]? no. may, probably will, mega recitation week that\\'s devoted python review. know many celebrating religious holiday friday, putting lot resource online get review another way. probably python review friday. ask look home page information week progresses. that\\'s folks. concludes we\\'re going today. soon give u form, we\\'re through.'"
      ]
     },
     "execution_count": 18,
     "metadata": {},
     "output_type": "execute_result"
    }
   ],
   "source": [
    "data['Transcript_Lemmantized'][0]"
   ]
  },
  {
   "cell_type": "code",
   "execution_count": 19,
   "id": "cb60bddc",
   "metadata": {},
   "outputs": [
    {
     "data": {
      "text/plain": [
       "34890"
      ]
     },
     "execution_count": 19,
     "metadata": {},
     "output_type": "execute_result"
    }
   ],
   "source": [
    "len(data['Transcript'][0])"
   ]
  },
  {
   "cell_type": "code",
   "execution_count": 30,
   "id": "f8f68e1d",
   "metadata": {},
   "outputs": [],
   "source": [
    "parser=PlaintextParser.from_string(data['Transcript'][0],Tokenizer('english'))"
   ]
  },
  {
   "cell_type": "code",
   "execution_count": 31,
   "id": "98ba2a72",
   "metadata": {},
   "outputs": [
    {
     "name": "stdout",
     "output_type": "stream",
     "text": [
      "so artificial intelligence is about constraints exposed by representations that support models targeted to thinking-- actually there's one more thing, too.\n",
      "while we're here i should also say that this is a very simple idea, generate and test.\n",
      "it all started with lady lovelace, the world's first programmer, who wrote programs about 100 years before there were computers to run them.\n",
      "and someone, everyone, thought that if we can do integration today, the rest of intelligence will be figured out tomorrow.\n",
      "if you go through, for example, the atlanta airport, your airplane is parked by a rule-based expert system that knows how to park aircraft effectively.\n",
      "but nevertheless, deep blue, by processing data like a bulldozer processes gravel, was able to beat the world champion.\n",
      "here's another example drawn from a program that has been under development, and continues to be, in my laboratory.\n",
      "but one reason why we can feel optimistic about future is because all of our friends have been on the march.\n",
      "and so the ensuing 150,000 years was a period in which we humans didn't actually amount to much.\n",
      "you can think of other explanations for why that trend line goes up, different from whether it has something to do with lectures producing good grades.\n"
     ]
    }
   ],
   "source": [
    "lsa_summarizer=LsaSummarizer()\n",
    "lsa_summary= lsa_summarizer(parser.document,10)\n",
    "\n",
    "# Printing the summary\n",
    "for sentence in lsa_summary:\n",
    "    print(sentence)"
   ]
  },
  {
   "cell_type": "markdown",
   "id": "2a0bd2c4",
   "metadata": {},
   "source": [
    "##### Ignore"
   ]
  },
  {
   "cell_type": "code",
   "execution_count": 38,
   "id": "533afd4b",
   "metadata": {},
   "outputs": [],
   "source": [
    "'''\n",
    "def calculate_jaccard(word_tokens1, word_tokens2):\n",
    "\t# Combine both tokens to find union.\n",
    "\tboth_tokens = word_tokens1 + word_tokens2\n",
    "\tunion = set(both_tokens)\n",
    "\n",
    "\t# Calculate intersection.\n",
    "\tintersection = set()\n",
    "\tfor w in word_tokens1:\n",
    "\t\tif w in word_tokens2:\n",
    "\t\t\tintersection.add(w)\n",
    "\n",
    "\tjaccard_score = len(intersection)/len(union)\n",
    "\treturn jaccard_score"
   ]
  },
  {
   "cell_type": "code",
   "execution_count": 43,
   "id": "b9d131f7",
   "metadata": {},
   "outputs": [
    {
     "name": "stdout",
     "output_type": "stream",
     "text": [
      "Collecting rouge\n",
      "  Downloading rouge-1.0.1-py3-none-any.whl (13 kB)\n",
      "Requirement already satisfied: six in c:\\users\\hardi\\anaconda3\\lib\\site-packages (from rouge) (1.16.0)\n",
      "Installing collected packages: rouge\n",
      "Successfully installed rouge-1.0.1\n"
     ]
    }
   ],
   "source": [
    "!pip3 install rouge"
   ]
  },
  {
   "cell_type": "code",
   "execution_count": 55,
   "id": "cb927fc2",
   "metadata": {},
   "outputs": [
    {
     "data": {
      "text/plain": [
       "[{'rouge-1': {'r': 0.9776536312849162,\n",
       "   'p': 0.07774322523322967,\n",
       "   'f': 0.144032920445972},\n",
       "  'rouge-2': {'r': 0.9282868525896414,\n",
       "   'p': 0.03008004131164472,\n",
       "   'f': 0.05827185133644637},\n",
       "  'rouge-l': {'r': 0.9776536312849162,\n",
       "   'p': 0.07774322523322967,\n",
       "   'f': 0.144032920445972}}]"
      ]
     },
     "execution_count": 55,
     "metadata": {},
     "output_type": "execute_result"
    }
   ],
   "source": [
    "from rouge import Rouge\n",
    "r = Rouge()\n",
    "r.get_scores(data['Transcript'][0],str(lsa_summary))"
   ]
  },
  {
   "cell_type": "code",
   "execution_count": 32,
   "id": "c54dfd1a",
   "metadata": {},
   "outputs": [],
   "source": [
    "import pickle"
   ]
  },
  {
   "cell_type": "code",
   "execution_count": 34,
   "id": "f5e98645",
   "metadata": {},
   "outputs": [],
   "source": [
    "with open(\"lsa_summarizer.pkl\", \"wb\") as f:\n",
    "    pickle.dump(lsa_summarizer, f)"
   ]
  },
  {
   "cell_type": "code",
   "execution_count": null,
   "id": "791e9523",
   "metadata": {},
   "outputs": [],
   "source": []
  }
 ],
 "metadata": {
  "kernelspec": {
   "display_name": "Python 3 (ipykernel)",
   "language": "python",
   "name": "python3"
  },
  "language_info": {
   "codemirror_mode": {
    "name": "ipython",
    "version": 3
   },
   "file_extension": ".py",
   "mimetype": "text/x-python",
   "name": "python",
   "nbconvert_exporter": "python",
   "pygments_lexer": "ipython3",
   "version": "3.9.12"
  }
 },
 "nbformat": 4,
 "nbformat_minor": 5
}
